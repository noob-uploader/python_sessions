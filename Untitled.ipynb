{
 "cells": [
  {
   "cell_type": "code",
   "execution_count": 5,
   "id": "4bd892e9",
   "metadata": {},
   "outputs": [
    {
     "name": "stdout",
     "output_type": "stream",
     "text": [
      "Even\n",
      "ODd\n",
      "Even\n",
      "ODd\n",
      "Even\n",
      "ODd\n",
      "Even\n",
      "ODd\n",
      "Even\n",
      "ODd\n",
      "Even\n"
     ]
    }
   ],
   "source": [
    "i=10\n",
    "while(i<21):\n",
    "    if i%2==0:\n",
    "        print(\"Even\")\n",
    "    else:\n",
    "        print(\"ODd\")\n",
    "    i+=1"
   ]
  },
  {
   "cell_type": "code",
   "execution_count": 16,
   "id": "827d27c9",
   "metadata": {},
   "outputs": [
    {
     "name": "stdout",
     "output_type": "stream",
     "text": [
      "The sum of 10 natural number are :  55\n"
     ]
    }
   ],
   "source": [
    "summ=0\n",
    "for i in range(1,11):\n",
    "    summ+=i\n",
    "print(\"The sum of 10 natural number are : \",summ )"
   ]
  },
  {
   "cell_type": "code",
   "execution_count": 2,
   "id": "2866fd01",
   "metadata": {},
   "outputs": [
    {
     "name": "stdout",
     "output_type": "stream",
     "text": [
      "55\n"
     ]
    }
   ],
   "source": [
    "i=1\n",
    "summ=0\n",
    "while i<11:\n",
    "    summ+=i\n",
    "    i+=1\n",
    "print(summ)"
   ]
  },
  {
   "cell_type": "code",
   "execution_count": 9,
   "id": "961e4d5b",
   "metadata": {},
   "outputs": [
    {
     "name": "stdout",
     "output_type": "stream",
     "text": [
      "The 10 random number are 92\n",
      "The 10 random number are 93\n",
      "The 10 random number are 94\n",
      "The 10 random number are 95\n",
      "The 10 random number are 96\n",
      "The 10 random number are 97\n",
      "The 10 random number are 98\n",
      "The 10 random number are 99\n",
      "The 10 random number are 100\n",
      "The 10 random number are 101\n",
      "There sum are 202\n"
     ]
    }
   ],
   "source": [
    "from random import randint\n",
    "sq=randint(1,100)\n",
    "i=0\n",
    "while(i<10):\n",
    "    i+=1\n",
    "    sq+=1\n",
    "    print(\"The 10 random number are {}\".format(sq))\n",
    "print(\"There sum are {}\".format(sq+sq))"
   ]
  },
  {
   "cell_type": "code",
   "execution_count": 13,
   "id": "38a0429c",
   "metadata": {},
   "outputs": [
    {
     "name": "stdout",
     "output_type": "stream",
     "text": [
      "The random number are 41\n",
      "The random number are 15\n",
      "The random number are 46\n",
      "The random number are 91\n",
      "The random number are 3\n",
      "The random number are 61\n",
      "The random number are 10\n",
      "The random number are 56\n",
      "The random number are 82\n",
      "The random number are 30\n",
      "435\n"
     ]
    }
   ],
   "source": [
    "import random\n",
    "summ=0\n",
    "for i in range(10):\n",
    "    num=random.randint(1,100)\n",
    "    summ+=num\n",
    "    print('The random number are {}'.format(num))\n",
    "print(summ)"
   ]
  },
  {
   "cell_type": "code",
   "execution_count": 2,
   "id": "ba9fa4e8",
   "metadata": {},
   "outputs": [
    {
     "name": "stdout",
     "output_type": "stream",
     "text": [
      "The number are 31\n",
      "The number are 98\n",
      "The number are 26\n",
      "The number are 78\n",
      "The number are 44\n",
      "The number are 75\n",
      "The number are 46\n",
      "The number are 52\n",
      "The number are 38\n",
      "The number are 59\n",
      "547\n"
     ]
    }
   ],
   "source": [
    "import random\n",
    "i=0\n",
    "summ=0\n",
    "while(i<10):\n",
    "    num=random.randint(1,100)\n",
    "    summ+=num\n",
    "    i+=1\n",
    "    print(\"The number are {}\".format(num))\n",
    "print(summ)"
   ]
  },
  {
   "cell_type": "code",
   "execution_count": 8,
   "id": "7cfebeed",
   "metadata": {},
   "outputs": [
    {
     "name": "stdout",
     "output_type": "stream",
     "text": [
      "The 10 random number are 34\n",
      "/\n",
      "The 10 random number are 39\n",
      "/\n",
      "The 10 random number are 74\n",
      "/\n",
      "74 is greater than 50\n",
      "The 10 random number are 52\n",
      "/\n",
      "52 is greater than 50\n",
      "The 10 random number are 79\n",
      "/\n",
      "79 is greater than 50\n",
      "The 10 random number are 41\n",
      "/\n",
      "The 10 random number are 96\n",
      "/\n",
      "96 is greater than 50\n",
      "The 10 random number are 71\n",
      "/\n",
      "71 is greater than 50\n",
      "The 10 random number are 98\n",
      "/\n",
      "98 is greater than 50\n",
      "The 10 random number are 39\n",
      "/\n"
     ]
    }
   ],
   "source": [
    "import random\n",
    "count=0\n",
    "for i in range(10):\n",
    "    user=random.randint(10,100)\n",
    "    print(\"The 10 random number are {}\".format(user))\n",
    "    print('/')\n",
    "    if(user>50):\n",
    "        print(\"{} is greater than 50\".format(user))\n",
    "        count+=1\n"
   ]
  },
  {
   "cell_type": "code",
   "execution_count": 11,
   "id": "4a32326c",
   "metadata": {},
   "outputs": [
    {
     "name": "stdout",
     "output_type": "stream",
     "text": [
      "1\n"
     ]
    }
   ],
   "source": [
    "r=\"3234,5,34,543,5,43,534\"\n",
    "\n",
    "print(len(\"r\"))"
   ]
  },
  {
   "cell_type": "code",
   "execution_count": 3,
   "id": "04ecc2cb",
   "metadata": {},
   "outputs": [
    {
     "data": {
      "text/plain": [
       "9"
      ]
     },
     "execution_count": 3,
     "metadata": {},
     "output_type": "execute_result"
    }
   ],
   "source": [
    "string1='hai howa sa d sa d a  a s  a sa sa '\n",
    "string1.count('a')"
   ]
  },
  {
   "cell_type": "code",
   "execution_count": 6,
   "id": "f7ba23c1",
   "metadata": {},
   "outputs": [
    {
     "name": "stdout",
     "output_type": "stream",
     "text": [
      "4\n"
     ]
    }
   ],
   "source": [
    "srt='ola ola olaola'\n",
    "count=0\n",
    "for i in range(len(srt)):\n",
    "    if srt[i:i+3]=='ola':\n",
    "        count+=1\n",
    "print(count)"
   ]
  },
  {
   "cell_type": "code",
   "execution_count": 7,
   "id": "c6ee2cea",
   "metadata": {},
   "outputs": [
    {
     "ename": "SyntaxError",
     "evalue": "expression cannot contain assignment, perhaps you meant \"==\"? (2974368383.py, line 2)",
     "output_type": "error",
     "traceback": [
      "\u001b[0;36m  Cell \u001b[0;32mIn[7], line 2\u001b[0;36m\u001b[0m\n\u001b[0;31m    print(hey[0]=2)\u001b[0m\n\u001b[0m          ^\u001b[0m\n\u001b[0;31mSyntaxError\u001b[0m\u001b[0;31m:\u001b[0m expression cannot contain assignment, perhaps you meant \"==\"?\n"
     ]
    }
   ],
   "source": [
    "hry='het'\n",
    "print(h ney[0]=2)"
   ]
  },
  {
   "cell_type": "code",
   "execution_count": 18,
   "id": "ae5c6cb5",
   "metadata": {},
   "outputs": [
    {
     "data": {
      "text/plain": [
       "'resta$t'"
      ]
     },
     "execution_count": 18,
     "metadata": {},
     "output_type": "execute_result"
    }
   ],
   "source": [
    "ssrt='restart'\n",
    "s1=ssrt[0]\n",
    "s2=ssrt[1:].replace('r', '$')\n",
    "s1+s2"
   ]
  },
  {
   "cell_type": "code",
   "execution_count": 20,
   "id": "805edd6d",
   "metadata": {},
   "outputs": [
    {
     "data": {
      "text/plain": [
       "'tratser'"
      ]
     },
     "execution_count": 20,
     "metadata": {},
     "output_type": "execute_result"
    }
   ],
   "source": [
    "ssrt[::-1]"
   ]
  },
  {
   "cell_type": "code",
   "execution_count": 42,
   "id": "02e8369c",
   "metadata": {},
   "outputs": [
    {
     "ename": "IndentationError",
     "evalue": "expected an indented block after 'if' statement on line 5 (2127722910.py, line 6)",
     "output_type": "error",
     "traceback": [
      "\u001b[0;36m  Cell \u001b[0;32mIn[42], line 6\u001b[0;36m\u001b[0m\n\u001b[0;31m    if se[i:i+15]=='a':\u001b[0m\n\u001b[0m    ^\u001b[0m\n\u001b[0;31mIndentationError\u001b[0m\u001b[0;31m:\u001b[0m expected an indented block after 'if' statement on line 5\n"
     ]
    }
   ],
   "source": [
    "se='hai how are you'\n",
    "#se.index('a')\n",
    "count=0\n",
    "for i in range(len(se)):\n",
    "    if se[i]=='a':\n",
    "    if se[i:i+15]=='a':\n",
    "        print(i)"
   ]
  },
  {
   "cell_type": "code",
   "execution_count": 38,
   "id": "14f86174",
   "metadata": {},
   "outputs": [
    {
     "name": "stdout",
     "output_type": "stream",
     "text": [
      "2\n"
     ]
    },
    {
     "data": {
      "text/plain": [
       "2"
      ]
     },
     "execution_count": 38,
     "metadata": {},
     "output_type": "execute_result"
    }
   ],
   "source": [
    "count=0\n",
    "for i in se:\n",
    "    if i=='a':\n",
    "        count+=1\n",
    "print(count)\n",
    "se.count('a')"
   ]
  },
  {
   "cell_type": "code",
   "execution_count": 47,
   "id": "857228d7",
   "metadata": {},
   "outputs": [
    {
     "data": {
      "text/plain": [
       "9"
      ]
     },
     "execution_count": 47,
     "metadata": {},
     "output_type": "execute_result"
    }
   ],
   "source": [
    "dfr='hai hai hai hia'\n",
    "#dfr.index('a')\n",
    "dfr.index('a')"
   ]
  },
  {
   "cell_type": "code",
   "execution_count": 53,
   "id": "ee0a7806",
   "metadata": {},
   "outputs": [
    {
     "data": {
      "text/plain": [
       "(2, 10)"
      ]
     },
     "execution_count": 53,
     "metadata": {},
     "output_type": "execute_result"
    }
   ],
   "source": [
    "string1='welcome helo hello'\n",
    "string1.index('l')\n",
    "string1.index('l',string1.index('l')+1)\n",
    "string1.index('l'), string1.index('l',string1.index('l')+1)"
   ]
  },
  {
   "cell_type": "code",
   "execution_count": 57,
   "id": "41507507",
   "metadata": {},
   "outputs": [
    {
     "ename": "ValueError",
     "evalue": "substring not found",
     "output_type": "error",
     "traceback": [
      "\u001b[0;31m---------------------------------------------------------------------------\u001b[0m",
      "\u001b[0;31mValueError\u001b[0m                                Traceback (most recent call last)",
      "Cell \u001b[0;32mIn[57], line 2\u001b[0m\n\u001b[1;32m      1\u001b[0m string1\u001b[38;5;241m.\u001b[39mfind(\u001b[38;5;124m'\u001b[39m\u001b[38;5;124ma\u001b[39m\u001b[38;5;124m'\u001b[39m)\n\u001b[0;32m----> 2\u001b[0m \u001b[43mstring1\u001b[49m\u001b[38;5;241;43m.\u001b[39;49m\u001b[43mindex\u001b[49m\u001b[43m(\u001b[49m\u001b[38;5;124;43m'\u001b[39;49m\u001b[38;5;124;43mz\u001b[39;49m\u001b[38;5;124;43m'\u001b[39;49m\u001b[43m)\u001b[49m\n",
      "\u001b[0;31mValueError\u001b[0m: substring not found"
     ]
    }
   ],
   "source": [
    "string1.find('a')\n",
    "string1.index('z')"
   ]
  },
  {
   "cell_type": "code",
   "execution_count": 58,
   "id": "61b1c2ce",
   "metadata": {},
   "outputs": [
    {
     "data": {
      "text/plain": [
       "0"
      ]
     },
     "execution_count": 58,
     "metadata": {},
     "output_type": "execute_result"
    }
   ],
   "source": [
    "string1.count('z') "
   ]
  },
  {
   "cell_type": "code",
   "execution_count": 9,
   "id": "729de4c1",
   "metadata": {},
   "outputs": [],
   "source": [
    "str1='python.anaconda@nareshit.com'\n",
    "sr2= str1.index('python')\n"
   ]
  },
  {
   "cell_type": "code",
   "execution_count": 1,
   "id": "623bce1a",
   "metadata": {},
   "outputs": [
    {
     "ename": "ValueError",
     "evalue": "substring not found",
     "output_type": "error",
     "traceback": [
      "\u001b[0;31m---------------------------------------------------------------------------\u001b[0m",
      "\u001b[0;31mValueError\u001b[0m                                Traceback (most recent call last)",
      "Cell \u001b[0;32mIn[1], line 2\u001b[0m\n\u001b[1;32m      1\u001b[0m str1\u001b[38;5;241m=\u001b[39m\u001b[38;5;124m'\u001b[39m\u001b[38;5;124mhai how are you\u001b[39m\u001b[38;5;124m'\u001b[39m\n\u001b[0;32m----> 2\u001b[0m \u001b[43mstr1\u001b[49m\u001b[38;5;241;43m.\u001b[39;49m\u001b[43mindex\u001b[49m\u001b[43m(\u001b[49m\u001b[38;5;124;43m'\u001b[39;49m\u001b[38;5;124;43mi\u001b[39;49m\u001b[38;5;124;43m'\u001b[39;49m\u001b[43m,\u001b[49m\u001b[43mstr1\u001b[49m\u001b[38;5;241;43m.\u001b[39;49m\u001b[43mindex\u001b[49m\u001b[43m(\u001b[49m\u001b[38;5;124;43m'\u001b[39;49m\u001b[38;5;124;43mi\u001b[39;49m\u001b[38;5;124;43m'\u001b[39;49m\u001b[43m)\u001b[49m\u001b[38;5;241;43m+\u001b[39;49m\u001b[38;5;241;43m1\u001b[39;49m\u001b[43m)\u001b[49m\n",
      "\u001b[0;31mValueError\u001b[0m: substring not found"
     ]
    }
   ],
   "source": [
    "str1='hai how are you'\n",
    "str1.index('i',str1.index('i')+1)"
   ]
  },
  {
   "cell_type": "code",
   "execution_count": null,
   "id": "4c25ef00",
   "metadata": {},
   "outputs": [],
   "source": []
  }
 ],
 "metadata": {
  "kernelspec": {
   "display_name": "Python 3 (ipykernel)",
   "language": "python",
   "name": "python3"
  },
  "language_info": {
   "codemirror_mode": {
    "name": "ipython",
    "version": 3
   },
   "file_extension": ".py",
   "mimetype": "text/x-python",
   "name": "python",
   "nbconvert_exporter": "python",
   "pygments_lexer": "ipython3",
   "version": "3.12.3"
  }
 },
 "nbformat": 4,
 "nbformat_minor": 5
}
