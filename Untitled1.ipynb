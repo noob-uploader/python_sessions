{
 "cells": [
  {
   "cell_type": "code",
   "execution_count": 1,
   "id": "fd316bb0",
   "metadata": {},
   "outputs": [
    {
     "name": "stdout",
     "output_type": "stream",
     "text": [
      "The positive index of p is 0\n",
      "The positive index of y is 1\n",
      "The positive index of t is 2\n",
      "The positive index of h is 3\n",
      "The positive index of o is 4\n",
      "The positive index of n is 5\n"
     ]
    }
   ],
   "source": [
    "string='python'\n",
    "for i in range(len(string)):\n",
    "    print('The positive index of {} is {}'.format(string[i],i))"
   ]
  },
  {
   "cell_type": "code",
   "execution_count": 3,
   "id": "e41084ea",
   "metadata": {},
   "outputs": [],
   "source": [
    "string1='python'\n",
    "i=len(string1)\n",
    "while(0):\n",
    "    print(string[i],i)"
   ]
  },
  {
   "cell_type": "code",
   "execution_count": 1,
   "id": "d29af464",
   "metadata": {},
   "outputs": [
    {
     "name": "stdout",
     "output_type": "stream",
     "text": [
      "0\n"
     ]
    }
   ],
   "source": [
    "py='python'\n",
    "count=0\n",
    "i=-len(py)\n",
    "while(i>0):\n",
    "    count+=0\n",
    "print(count)"
   ]
  },
  {
   "cell_type": "code",
   "execution_count": 2,
   "id": "a29f4d91",
   "metadata": {},
   "outputs": [
    {
     "name": "stdout",
     "output_type": "stream",
     "text": [
      "0\n",
      "1\n",
      "2\n",
      "3\n",
      "4\n",
      "5\n",
      "6\n",
      "7\n",
      "8\n",
      "9\n",
      "10\n"
     ]
    }
   ],
   "source": [
    "i=0\n",
    "while(i<=10):\n",
    "    print(i)\n",
    "    i+=1"
   ]
  },
  {
   "cell_type": "code",
   "execution_count": 1,
   "id": "3317f3be",
   "metadata": {},
   "outputs": [
    {
     "name": "stdout",
     "output_type": "stream",
     "text": [
      "10\n",
      "11\n",
      "12\n",
      "13\n",
      "14\n",
      "15\n",
      "16\n",
      "17\n",
      "18\n",
      "19\n",
      "20\n"
     ]
    }
   ],
   "source": [
    "i=10\n",
    "while(i<=20):\n",
    "    print(i)\n",
    "    i+=1"
   ]
  },
  {
   "cell_type": "code",
   "execution_count": 2,
   "id": "624e6906",
   "metadata": {},
   "outputs": [
    {
     "name": "stdout",
     "output_type": "stream",
     "text": [
      "-1\n",
      "-2\n",
      "-3\n",
      "-4\n",
      "-5\n",
      "-6\n",
      "-7\n",
      "-8\n",
      "-9\n",
      "-10\n",
      "-11\n",
      "-12\n",
      "-13\n",
      "-14\n",
      "-15\n",
      "-16\n",
      "-17\n",
      "-18\n",
      "-19\n",
      "-20\n"
     ]
    }
   ],
   "source": [
    "i=-1\n",
    "while(i>=-20):\n",
    "    print(i)\n",
    "    i-=1"
   ]
  },
  {
   "cell_type": "code",
   "execution_count": 7,
   "id": "e42ea7a6",
   "metadata": {},
   "outputs": [
    {
     "name": "stdout",
     "output_type": "stream",
     "text": [
      "the sqare of 14 are 196 \n",
      "the sqare of 11 are 121 \n",
      "the sqare of 17 are 289 \n",
      "the sqare of 20 are 400 \n",
      "the sqare of 16 are 256 \n",
      "the sqare of 13 are 169 \n"
     ]
    }
   ],
   "source": [
    "from random import randint\n",
    "\n",
    "i=0\n",
    "while(i<=5):\n",
    "    r=randint(10,20)\n",
    "    sq=print(\"the sqare of {} are {} \".format(r,r*r))\n",
    "    i+=1\n",
    "    "
   ]
  },
  {
   "cell_type": "code",
   "execution_count": 13,
   "id": "b32248d9",
   "metadata": {},
   "outputs": [
    {
     "name": "stdout",
     "output_type": "stream",
     "text": [
      "Enter the number b/t 0-10 : 45\n",
      "Number are neither 5 nor 0\n",
      "Enter the number b/t 0-10 : sdf\n"
     ]
    },
    {
     "ename": "TypeError",
     "evalue": "argument of type 'int' is not iterable",
     "output_type": "error",
     "traceback": [
      "\u001b[0;31m---------------------------------------------------------------------------\u001b[0m",
      "\u001b[0;31mNameError\u001b[0m                                 Traceback (most recent call last)",
      "Cell \u001b[0;32mIn[13], line 4\u001b[0m\n\u001b[1;32m      3\u001b[0m \u001b[38;5;28;01mtry\u001b[39;00m:\n\u001b[0;32m----> 4\u001b[0m     user\u001b[38;5;241m=\u001b[39m\u001b[38;5;28;43meval\u001b[39;49m\u001b[43m(\u001b[49m\u001b[38;5;28;43minput\u001b[39;49m\u001b[43m(\u001b[49m\u001b[38;5;124;43m\"\u001b[39;49m\u001b[38;5;124;43mEnter the number b/t 0-10 : \u001b[39;49m\u001b[38;5;124;43m\"\u001b[39;49m\u001b[43m)\u001b[49m\u001b[43m)\u001b[49m\n\u001b[1;32m      5\u001b[0m     \u001b[38;5;28;01mif\u001b[39;00m user\u001b[38;5;241m==\u001b[39m\u001b[38;5;241m5\u001b[39m:\n",
      "File \u001b[0;32m<string>:1\u001b[0m\n",
      "\u001b[0;31mNameError\u001b[0m: name 'sdf' is not defined",
      "\nDuring handling of the above exception, another exception occurred:\n",
      "\u001b[0;31mTypeError\u001b[0m                                 Traceback (most recent call last)",
      "Cell \u001b[0;32mIn[13], line 12\u001b[0m\n\u001b[1;32m     10\u001b[0m         \u001b[38;5;28mprint\u001b[39m(\u001b[38;5;124m'\u001b[39m\u001b[38;5;124mNumber are neither 5 nor 0\u001b[39m\u001b[38;5;124m'\u001b[39m)\n\u001b[1;32m     11\u001b[0m     i\u001b[38;5;241m+\u001b[39m\u001b[38;5;241m=\u001b[39m\u001b[38;5;241m1\u001b[39m\n\u001b[0;32m---> 12\u001b[0m \u001b[38;5;28;01mexcept\u001b[39;00m \u001b[38;5;167;43;01mException\u001b[39;49;00m\u001b[43m \u001b[49m\u001b[38;5;129;43;01min\u001b[39;49;00m\u001b[43m \u001b[49m\u001b[43mr\u001b[49m:\n\u001b[1;32m     13\u001b[0m     \u001b[38;5;28mprint\u001b[39m(\u001b[38;5;124m\"\u001b[39m\u001b[38;5;124mNot a number\u001b[39m\u001b[38;5;124m\"\u001b[39m)\n",
      "\u001b[0;31mTypeError\u001b[0m: argument of type 'int' is not iterable"
     ]
    }
   ],
   "source": [
    "i=0\n",
    "while(i<=10):\n",
    "    try:\n",
    "        user=eval(input(\"Enter the number b/t 0-10 : \"))\n",
    "        if user==5:\n",
    "            print(\"Nunber are equal to 5 \")\n",
    "        elif user==0:\n",
    "            print(\"Number are equal to 0\")\n",
    "        else:\n",
    "            print('Number are neither 5 nor 0')\n",
    "        i+=1\n",
    "    except Exception in r:\n",
    "        print(\"Not a number\")\n",
    "    "
   ]
  },
  {
   "cell_type": "code",
   "execution_count": 15,
   "id": "be261f70",
   "metadata": {},
   "outputs": [
    {
     "name": "stdout",
     "output_type": "stream",
     "text": [
      "-6 -5 -4 -3 -2 -1 "
     ]
    }
   ],
   "source": [
    "for i in range(0,6):\n",
    "    print(i-6,end=' ')"
   ]
  },
  {
   "cell_type": "code",
   "execution_count": 18,
   "id": "a260d3a0",
   "metadata": {},
   "outputs": [
    {
     "name": "stdout",
     "output_type": "stream",
     "text": [
      "the postive index 0 and negative index -6 is for p\n",
      "the postive index 1 and negative index -5 is for y\n",
      "the postive index 2 and negative index -4 is for t\n",
      "the postive index 3 and negative index -3 is for h\n",
      "the postive index 4 and negative index -2 is for o\n",
      "the postive index 5 and negative index -1 is for n\n"
     ]
    }
   ],
   "source": [
    "srt='python'\n",
    "i=0\n",
    "while(i<len(srt)):\n",
    "    print(\"the postive index {} and negative index {} is for {}\".format(i,i-6,srt[i]))\n",
    "    i+=1"
   ]
  },
  {
   "cell_type": "code",
   "execution_count": 1,
   "id": "0d53ba23",
   "metadata": {},
   "outputs": [
    {
     "ename": "NameError",
     "evalue": "name 'keys' is not defined",
     "output_type": "error",
     "traceback": [
      "\u001b[0;31m---------------------------------------------------------------------------\u001b[0m",
      "\u001b[0;31mNameError\u001b[0m                                 Traceback (most recent call last)",
      "Cell \u001b[0;32mIn[1], line 5\u001b[0m\n\u001b[1;32m      3\u001b[0m d3\u001b[38;5;241m=\u001b[39m{}\n\u001b[1;32m      4\u001b[0m \u001b[38;5;28;01mfor\u001b[39;00m i,j \u001b[38;5;129;01min\u001b[39;00m \u001b[38;5;28mzip\u001b[39m(d1,d2):\n\u001b[0;32m----> 5\u001b[0m         \u001b[38;5;28mprint\u001b[39m(\u001b[43mkeys\u001b[49m)\n",
      "\u001b[0;31mNameError\u001b[0m: name 'keys' is not defined"
     ]
    }
   ],
   "source": [
    "d1={'a': 50, 'b':30, 'c':40}\n",
    "d2={'a': 20, 'b':100, 'c':200}\n",
    "d3={}\n",
    "for i,j in zip(d1,d2):\n",
    "        "
   ]
  },
  {
   "cell_type": "code",
   "execution_count": 4,
   "id": "ce24ff61",
   "metadata": {},
   "outputs": [
    {
     "ename": "NameError",
     "evalue": "name 'palm' is not defined",
     "output_type": "error",
     "traceback": [
      "\u001b[0;31m---------------------------------------------------------------------------\u001b[0m",
      "\u001b[0;31mNameError\u001b[0m                                 Traceback (most recent call last)",
      "Cell \u001b[0;32mIn[4], line 1\u001b[0m\n\u001b[0;32m----> 1\u001b[0m \u001b[38;5;28mdir\u001b[39m(\u001b[43mpalm\u001b[49m)\n",
      "\u001b[0;31mNameError\u001b[0m: name 'palm' is not defined"
     ]
    }
   ],
   "source": [
    "dir(palm)"
   ]
  },
  {
   "cell_type": "code",
   "execution_count": null,
   "id": "76c00ad8",
   "metadata": {},
   "outputs": [],
   "source": []
  }
 ],
 "metadata": {
  "kernelspec": {
   "display_name": "Python 3 (ipykernel)",
   "language": "python",
   "name": "python3"
  },
  "language_info": {
   "codemirror_mode": {
    "name": "ipython",
    "version": 3
   },
   "file_extension": ".py",
   "mimetype": "text/x-python",
   "name": "python",
   "nbconvert_exporter": "python",
   "pygments_lexer": "ipython3",
   "version": "3.12.3"
  }
 },
 "nbformat": 4,
 "nbformat_minor": 5
}
